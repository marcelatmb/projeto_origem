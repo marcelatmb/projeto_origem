{
 "cells": [
  {
   "cell_type": "code",
   "execution_count": 25,
   "id": "bb303580",
   "metadata": {},
   "outputs": [],
   "source": [
    "age = int(input(\"Qual sua idade?\"))\n",
    "weekday = input(\"Qual o dia da semana?\").lower()"
   ]
  },
  {
   "cell_type": "code",
   "execution_count": 21,
   "id": "bab366f8",
   "metadata": {},
   "outputs": [],
   "source": [
    "def verif_idade(age):\n",
    "    if age < 12:\n",
    "        return \"Criança\"\n",
    "    elif age >= 12 and age <= 18:\n",
    "        return \"Adolescente\"\n",
    "    else:\n",
    "        return \"Adulto\""
   ]
  },
  {
   "cell_type": "code",
   "execution_count": 22,
   "id": "9d2b3b8a",
   "metadata": {},
   "outputs": [],
   "source": [
    "def atividade(weekday):\n",
    "    match weekday:\n",
    "        case 'domingo':\n",
    "            return 'Ir ao parque'\n",
    "        case 'segunda':\n",
    "            return 'Estudar programação'\n",
    "        case 'terça':\n",
    "            return 'Praticar esporte'\n",
    "        case 'quarta':\n",
    "            return 'Ler um livro'\n",
    "        case 'quinta':\n",
    "            return 'Assistir um filme'\n",
    "        case 'sexta':\n",
    "            return 'Encontrar amigos'\n",
    "        case 'sábado':\n",
    "            return 'Fazer uma viagem curta'\n",
    "        case _:\n",
    "            return 'precisar inserir novamente o dia da semana'\n"
   ]
  },
  {
   "cell_type": "code",
   "execution_count": 26,
   "id": "f59897e1",
   "metadata": {},
   "outputs": [
    {
     "name": "stdout",
     "output_type": "stream",
     "text": [
      "Você é Adulto e hoje você vai Estudar programação !\n"
     ]
    }
   ],
   "source": [
    "print(f\"Você é {verif_idade(age)} e hoje você vai {atividade(weekday)} !\")"
   ]
  }
 ],
 "metadata": {
  "kernelspec": {
   "display_name": "Python 3",
   "language": "python",
   "name": "python3"
  },
  "language_info": {
   "codemirror_mode": {
    "name": "ipython",
    "version": 3
   },
   "file_extension": ".py",
   "mimetype": "text/x-python",
   "name": "python",
   "nbconvert_exporter": "python",
   "pygments_lexer": "ipython3",
   "version": "3.13.2"
  }
 },
 "nbformat": 4,
 "nbformat_minor": 5
}
